{
 "cells": [
  {
   "cell_type": "markdown",
   "metadata": {},
   "source": [
    "# UB Sample Mix-up Check\n",
    "Analysis Performed by Nate Olson on iMac\n",
    "\n",
    "\n",
    "## Summary \n",
    "\n",
    "\n",
    "## Objective\n",
    "Verify the HG002 GIAB sample was used in the UB GridION runs from the Matt Loose lab or identify the alternative sample  processed if applicable. Justin Zook identified reads from the UB GridION run with structural variants not present in HG002. \n",
    "\n",
    "Likely alternative samples include HG001, HG003, and HG004 as these cell lines were sent to Matt Loose by Justin Zook.\n",
    "Genotype homozygous variant SVs specific to HG001, HG003, and HG004 to identify material source for runs in question using data from the 8 UB flowcells independently. \n",
    "\n",
    "## Process\n",
    "Snakemake used to compose reproducible pipeline. \n",
    "\n",
    "- SVs obtained from V0.6 SV benchmark vcf for HG003 and HG004, PacBio HiFi pbsv callset for HG001 SVs\n",
    "    - HG003 & HG004 SVs: Use bash code to filter V0.6 vcf\n",
    "    - HG001: Use bash to filter pbsv VCF\n",
    "    - Use SVanalyzer to cluster filtered vcfs\n",
    "- Genotype UB flowcells using svviz\n",
    "\n",
    "## TODO\n",
    "- finish downloading bams\n",
    "- run pipeline on full dataset\n",
    "- compile svviz results\n",
    "- Use snakemake report to summarize results"
   ]
  },
  {
   "cell_type": "markdown",
   "metadata": {},
   "source": [
    "## Notes\n",
    "400 SVs present in both HG001 and HG003/4 VCF. Number obtained using `grep \"NumClusterSVs=2\" HG001_HG003_HG004_homvar.clustered.vcf | wc -l`"
   ]
  }
 ],
 "metadata": {
  "kernelspec": {
   "display_name": "Python 3",
   "language": "python",
   "name": "python3"
  },
  "language_info": {
   "codemirror_mode": {
    "name": "ipython",
    "version": 3
   },
   "file_extension": ".py",
   "mimetype": "text/x-python",
   "name": "python",
   "nbconvert_exporter": "python",
   "pygments_lexer": "ipython3",
   "version": "3.7.3"
  }
 },
 "nbformat": 4,
 "nbformat_minor": 4
}
